{
  "nbformat": 4,
  "nbformat_minor": 0,
  "metadata": {
    "colab": {
      "provenance": [],
      "authorship_tag": "ABX9TyPBv219mWWr37DVZhiXRUmC",
      "include_colab_link": true
    },
    "kernelspec": {
      "name": "python3",
      "display_name": "Python 3"
    },
    "language_info": {
      "name": "python"
    }
  },
  "cells": [
    {
      "cell_type": "markdown",
      "metadata": {
        "id": "view-in-github",
        "colab_type": "text"
      },
      "source": [
        "<a href=\"https://colab.research.google.com/github/i-salehi/CytEx/blob/main/Untitled5.ipynb\" target=\"_parent\"><img src=\"https://colab.research.google.com/assets/colab-badge.svg\" alt=\"Open In Colab\"/></a>"
      ]
    },
    {
      "cell_type": "code",
      "execution_count": null,
      "metadata": {
        "id": "0axBjp1eJBS2"
      },
      "outputs": [],
      "source": [
        "import io\n",
        "import os\n",
        "from google.colab import files\n",
        "import openpyxl\n",
        "\n",
        "# Print header message with larger font and red color\n",
        "print(\"\\033[1m\\033[31m\\033[6mCytEx\\033[0m\")\n",
        "print(\"\\n\")\n",
        "\n",
        "# Prompt user to upload file without bold formatting\n",
        "print(\"\\033[0mPlease upload the raw Excel file from Hamilton.\")\n",
        "print(\"\\n\")\n",
        "\n",
        "# Create a file upload widget\n",
        "upload_widget = files.upload()\n",
        "\n",
        "# Read the uploaded file\n",
        "for filename in upload_widget.keys():\n",
        "    uploaded_file = upload_widget[filename]\n",
        "    # Load the file into a bytes buffer\n",
        "    file_buffer = io.BytesIO(uploaded_file)\n",
        "    # Load the workbook from the bytes buffer\n",
        "    workbook = openpyxl.load_workbook(file_buffer)\n",
        "    # Print success message in green\n",
        "    print(f\"\")\n",
        "    print(f\"The file {filename} was successfully saved.\")\n",
        "\n",
        "\n",
        "import openpyxl\n",
        "\n",
        "worksheet = workbook.active\n",
        "\n",
        "# Set up variables to keep track of hits and misses\n",
        "hits = 0\n",
        "misses = 0\n",
        "\n",
        "# Define the fill color for hits\n",
        "greenFill = openpyxl.styles.PatternFill(start_color='00FF00', end_color='00FF00', fill_type='solid')\n",
        "\n",
        "# Define a list to store the data for each hit\n",
        "hit_data = []\n",
        "\n",
        "# Loop through each cell in the worksheet\n",
        "for row in worksheet.iter_rows():\n",
        "    for cell in row:\n",
        "        # Check if the cell contains a 1 and the cell to the left is empty\n",
        "        if cell.value == 1 and cell.offset(row=0, column=-1).value is None:\n",
        "            # Check if the cell below the empty cell contains an A\n",
        "            if cell.offset(row=1, column=-1).value == 'A':\n",
        "                hits += 1\n",
        "                # Get the coordinates of the three cells involved in the hit selection\n",
        "                top_left = (cell.column, cell.row)\n",
        "                bottom_left = (cell.offset(row=1, column=-1).column, cell.offset(row=1, column=-1).row)\n",
        "                top_right = (cell.offset(row=0, column=-1).column, cell.offset(row=0, column=-1).row)\n",
        "                # Define the coordinates of the bottom right corner of the rectangle\n",
        "                bottom_right = (top_right[0] + 12, bottom_left[1] + 8)\n",
        "                # Store the cell values in a list\n",
        "                for r in range(cell.row, cell.row+9):\n",
        "                    row_data = []\n",
        "                    for c in range(cell.column-1, cell.column+12):\n",
        "                        row_data.append(worksheet.cell(row=r, column=c).value)\n",
        "                        worksheet.cell(row=r, column=c).fill = greenFill\n",
        "                    hit_data.append(row_data)\n",
        "            else:\n",
        "                # Color the empty cell and cells below green\n",
        "                for r in range(cell.row, cell.row+9):\n",
        "                    worksheet.cell(row=r, column=cell.column-1).fill = greenFill\n",
        "                misses += 1\n",
        "        else:\n",
        "            misses += 1\n",
        "\n",
        "# Output the number of hits and misses\n",
        "print(f\"\")\n",
        "print(f\"Number of plates:{hits}\")\n",
        "print(f\"\\033[32mExtracted data saved as Hits.xlsx\\033[32m\")\n",
        "\n",
        "# Write the hit data to the same sheet in the output file\n",
        "output_workbook = openpyxl.Workbook()\n",
        "output_sheet = output_workbook.active\n",
        "for hit_cells in hit_data:\n",
        "    output_sheet.append(hit_cells)\n",
        "output_workbook.save('/content/Hits.xlsx')\n"
      ]
    }
  ]
}